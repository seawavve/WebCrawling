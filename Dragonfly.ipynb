{
  "nbformat": 4,
  "nbformat_minor": 0,
  "metadata": {
    "colab": {
      "name": "Dragonfly.ipynb",
      "provenance": [],
      "collapsed_sections": []
    },
    "kernelspec": {
      "name": "python3",
      "display_name": "Python 3"
    }
  },
  "cells": [
    {
      "cell_type": "code",
      "metadata": {
        "id": "CnG9iYsfBshv",
        "colab_type": "code",
        "colab": {}
      },
      "source": [
        "import pandas as pd\n",
        "from bs4 import BeautifulSoup\n",
        "import requests"
      ],
      "execution_count": 0,
      "outputs": []
    },
    {
      "cell_type": "code",
      "metadata": {
        "id": "jAQH6lB7HKnS",
        "colab_type": "code",
        "colab": {}
      },
      "source": [
        "url='http://apis.data.go.kr/1400119/service/rest/KfniService/systemSearch?ServiceKey=nJyjaOJ8GENB%2F2nQSLsVCRkTZDsj6wUbx6iqEHNVH6I2IghnyySx3JDrp2JWMyqHG%2BWa0Y21QBVkjg%2Fr4OzD9w%3D%3D&st=1&sw=잠자리'\n",
        "\n",
        "req=requests.get(url)                         #공공API접근\n",
        "html=req.text\n",
        "soup=BeautifulSoup(html,'html.parser')"
      ],
      "execution_count": 0,
      "outputs": []
    },
    {
      "cell_type": "code",
      "metadata": {
        "id": "n1ftAoHdCfCi",
        "colab_type": "code",
        "colab": {}
      },
      "source": [
        "print(soup)"
      ],
      "execution_count": 0,
      "outputs": []
    },
    {
      "cell_type": "code",
      "metadata": {
        "id": "1Id_EZGbCugu",
        "colab_type": "code",
        "colab": {}
      },
      "source": [
        "k_name=[]                                     #분류군국명 리스트\n",
        "html_k_name=[]                                #정제전 분류군국명 이름 리스트\n",
        "html_k_name=soup.findAll('systemkorname')\n",
        "print(html_k_name)\n",
        "\n",
        "for line in html_k_name:                      #정제과정\n",
        "  text=line.get_text()\n",
        "  k_name.append(text)\n",
        "\n",
        "print(k_name)"
      ],
      "execution_count": 0,
      "outputs": []
    },
    {
      "cell_type": "code",
      "metadata": {
        "id": "RvS1FyJ3ccg7",
        "colab_type": "code",
        "colab": {}
      },
      "source": [
        "name=[]                                     #분류군명 리스트\n",
        "html_name=[]                                #정제전 분류군명 이름 리스트\n",
        "html_name=soup.findAll('systemname')\n",
        "print(html_name)\n",
        "\n",
        "for line in html_name:                      #정제과정\n",
        "  text=line.get_text()\n",
        "  name.append(text)\n",
        "\n",
        "print(name)"
      ],
      "execution_count": 0,
      "outputs": []
    },
    {
      "cell_type": "code",
      "metadata": {
        "id": "iGEa2T76dP_O",
        "colab_type": "code",
        "colab": {}
      },
      "source": [
        "result=[]\n",
        "for k_name,name in zip(k_name,name):       #분류군국명과 분류군명을 엮어서 result에 추가\n",
        "  row_data=[k_name,name]\n",
        "  result.append(row_data)"
      ],
      "execution_count": 0,
      "outputs": []
    },
    {
      "cell_type": "code",
      "metadata": {
        "id": "SDb4nM_7doph",
        "colab_type": "code",
        "colab": {}
      },
      "source": [
        "import pandas as pd\n",
        "\n",
        "dragonfly_df=pd.DataFrame(result,columns=['분류군국명','분류군명'])        #판다스를 이용해 csv로 보기좋게 저장\n",
        "dragonfly_df.to_csv('dragonfly_sorted_data.csv')"
      ],
      "execution_count": 0,
      "outputs": []
    },
    {
      "cell_type": "code",
      "metadata": {
        "id": "1ea90uUEeJBB",
        "colab_type": "code",
        "colab": {}
      },
      "source": [
        "!ls"
      ],
      "execution_count": 0,
      "outputs": []
    }
  ]
}